{
 "cells": [
  {
   "cell_type": "markdown",
   "metadata": {
    "collapsed": true
   },
   "source": [
    "# Artificial Intelligence Nanodegree\n",
    "## Machine Translation Project\n",
    "In this notebook, sections that end with **'(IMPLEMENTATION)'** in the header indicate that the following blocks of code will require additional functionality which you must provide. Please be sure to read the instructions carefully!\n",
    "\n",
    "## Introduction\n",
    "In this notebook, you will build a deep neural network that functions as part of an end-to-end machine translation pipeline. Your completed pipeline will accept English text as input and return the French translation.\n",
    "\n",
    "- **Preprocess** - You'll convert text to sequence of integers.\n",
    "- **Models** Create models which accepts a sequence of integers as input and returns a probability distribution over possible translations. After learning about the basic types of neural networks that are often used for machine translation, you will engage in your own investigations, to design your own model!\n",
    "- **Prediction** Run the model on English text."
   ]
  },
  {
   "cell_type": "code",
   "execution_count": 1,
   "metadata": {},
   "outputs": [],
   "source": [
    "%load_ext autoreload\n",
    "%aimport helper, tests\n",
    "%autoreload 1"
   ]
  },
  {
   "cell_type": "code",
   "execution_count": 2,
   "metadata": {},
   "outputs": [
    {
     "name": "stderr",
     "output_type": "stream",
     "text": [
      "Using TensorFlow backend.\n"
     ]
    }
   ],
   "source": [
    "import collections\n",
    "\n",
    "import helper\n",
    "import numpy as np\n",
    "import project_tests as tests\n",
    "\n",
    "from keras.preprocessing.text import Tokenizer\n",
    "from keras.preprocessing.sequence import pad_sequences\n",
    "from keras.models import Model, Sequential\n",
    "from keras.layers import LSTM, GRU, Input, Dense, TimeDistributed, Activation, RepeatVector, Bidirectional\n",
    "from keras.layers.embeddings import Embedding\n",
    "from keras.optimizers import Adam\n",
    "from keras.losses import sparse_categorical_crossentropy\n",
    "import matplotlib.pyplot as plt "
   ]
  },
  {
   "cell_type": "markdown",
   "metadata": {},
   "source": [
    "### Verify access to the GPU\n",
    "The following test applies only if you expect to be using a GPU, e.g., while running in a Udacity Workspace or using an AWS instance with GPU support. Run the next cell, and verify that the device_type is \"GPU\".\n",
    "- If the device is not GPU & you are running from a Udacity Workspace, then save your workspace with the icon at the top, then click \"enable\" at the bottom of the workspace.\n",
    "- If the device is not GPU & you are running from an AWS instance, then refer to the cloud computing instructions in the classroom to verify your setup steps."
   ]
  },
  {
   "cell_type": "code",
   "execution_count": 3,
   "metadata": {},
   "outputs": [
    {
     "name": "stdout",
     "output_type": "stream",
     "text": [
      "[name: \"/cpu:0\"\n",
      "device_type: \"CPU\"\n",
      "memory_limit: 268435456\n",
      "locality {\n",
      "}\n",
      "incarnation: 11276287734619113415\n",
      ", name: \"/gpu:0\"\n",
      "device_type: \"GPU\"\n",
      "memory_limit: 357564416\n",
      "locality {\n",
      "  bus_id: 1\n",
      "}\n",
      "incarnation: 4927823025777787248\n",
      "physical_device_desc: \"device: 0, name: Tesla K80, pci bus id: 0000:00:04.0\"\n",
      "]\n"
     ]
    }
   ],
   "source": [
    "from tensorflow.python.client import device_lib\n",
    "print(device_lib.list_local_devices())"
   ]
  },
  {
   "cell_type": "markdown",
   "metadata": {},
   "source": [
    "## Dataset\n",
    "We begin by investigating the dataset that will be used to train and evaluate your pipeline.  The most common datasets used for machine translation are from [WMT](http://www.statmt.org/).  However, that will take a long time to train a neural network on.  We'll be using a dataset we created for this project that contains a small vocabulary.  You'll be able to train your model in a reasonable time with this dataset.\n",
    "### Load Data\n",
    "The data is located in `data/small_vocab_en` and `data/small_vocab_fr`. The `small_vocab_en` file contains English sentences with their French translations in the `small_vocab_fr` file. Load the English and French data from these files from running the cell below."
   ]
  },
  {
   "cell_type": "code",
   "execution_count": 4,
   "metadata": {},
   "outputs": [
    {
     "name": "stdout",
     "output_type": "stream",
     "text": [
      "Dataset Loaded\n"
     ]
    }
   ],
   "source": [
    "# Load English data\n",
    "english_sentences = helper.load_data('data/small_vocab_en')\n",
    "# Load French data\n",
    "french_sentences = helper.load_data('data/small_vocab_fr')\n",
    "\n",
    "print('Dataset Loaded')"
   ]
  },
  {
   "cell_type": "markdown",
   "metadata": {},
   "source": [
    "### Files\n",
    "Each line in `small_vocab_en` contains an English sentence with the respective translation in each line of `small_vocab_fr`.  View the first two lines from each file."
   ]
  },
  {
   "cell_type": "code",
   "execution_count": 5,
   "metadata": {},
   "outputs": [
    {
     "name": "stdout",
     "output_type": "stream",
     "text": [
      "small_vocab_en Line 1:  new jersey is sometimes quiet during autumn , and it is snowy in april .\n",
      "small_vocab_fr Line 1:  new jersey est parfois calme pendant l' automne , et il est neigeux en avril .\n",
      "small_vocab_en Line 2:  the united states is usually chilly during july , and it is usually freezing in november .\n",
      "small_vocab_fr Line 2:  les états-unis est généralement froid en juillet , et il gèle habituellement en novembre .\n"
     ]
    }
   ],
   "source": [
    "for sample_i in range(2):\n",
    "    print('small_vocab_en Line {}:  {}'.format(sample_i + 1, english_sentences[sample_i]))\n",
    "    print('small_vocab_fr Line {}:  {}'.format(sample_i + 1, french_sentences[sample_i]))"
   ]
  },
  {
   "cell_type": "markdown",
   "metadata": {},
   "source": [
    "From looking at the sentences, you can see they have been preprocessed already.  The puncuations have been delimited using spaces. All the text have been converted to lowercase.  This should save you some time, but the text requires more preprocessing.\n",
    "### Vocabulary\n",
    "The complexity of the problem is determined by the complexity of the vocabulary.  A more complex vocabulary is a more complex problem.  Let's look at the complexity of the dataset we'll be working with."
   ]
  },
  {
   "cell_type": "code",
   "execution_count": 6,
   "metadata": {},
   "outputs": [
    {
     "name": "stdout",
     "output_type": "stream",
     "text": [
      "1823250 English words.\n",
      "227 unique English words.\n",
      "10 Most common words in the English dataset:\n",
      "\"is\" \",\" \".\" \"in\" \"it\" \"during\" \"the\" \"but\" \"and\" \"sometimes\"\n",
      "\n",
      "1961295 French words.\n",
      "355 unique French words.\n",
      "10 Most common words in the French dataset:\n",
      "\"est\" \".\" \",\" \"en\" \"il\" \"les\" \"mais\" \"et\" \"la\" \"parfois\"\n"
     ]
    }
   ],
   "source": [
    "english_words_counter = collections.Counter([word for sentence in english_sentences for word in sentence.split()])\n",
    "french_words_counter = collections.Counter([word for sentence in french_sentences for word in sentence.split()])\n",
    "\n",
    "print('{} English words.'.format(len([word for sentence in english_sentences for word in sentence.split()])))\n",
    "print('{} unique English words.'.format(len(english_words_counter)))\n",
    "print('10 Most common words in the English dataset:')\n",
    "print('\"' + '\" \"'.join(list(zip(*english_words_counter.most_common(10)))[0]) + '\"')\n",
    "print()\n",
    "print('{} French words.'.format(len([word for sentence in french_sentences for word in sentence.split()])))\n",
    "print('{} unique French words.'.format(len(french_words_counter)))\n",
    "print('10 Most common words in the French dataset:')\n",
    "print('\"' + '\" \"'.join(list(zip(*french_words_counter.most_common(10)))[0]) + '\"')"
   ]
  },
  {
   "cell_type": "markdown",
   "metadata": {},
   "source": [
    "For comparison, _Alice's Adventures in Wonderland_ contains 2,766 unique words of a total of 15,500 words.\n",
    "## Preprocess\n",
    "For this project, you won't use text data as input to your model. Instead, you'll convert the text into sequences of integers using the following preprocess methods:\n",
    "1. Tokenize the words into ids\n",
    "2. Add padding to make all the sequences the same length.\n",
    "\n",
    "Time to start preprocessing the data...\n",
    "### Tokenize (IMPLEMENTATION)\n",
    "For a neural network to predict on text data, it first has to be turned into data it can understand. Text data like \"dog\" is a sequence of ASCII character encodings.  Since a neural network is a series of multiplication and addition operations, the input data needs to be number(s).\n",
    "\n",
    "We can turn each character into a number or each word into a number.  These are called character and word ids, respectively.  Character ids are used for character level models that generate text predictions for each character.  A word level model uses word ids that generate text predictions for each word.  Word level models tend to learn better, since they are lower in complexity, so we'll use those.\n",
    "\n",
    "Turn each sentence into a sequence of words ids using Keras's [`Tokenizer`](https://keras.io/preprocessing/text/#tokenizer) function. Use this function to tokenize `english_sentences` and `french_sentences` in the cell below.\n",
    "\n",
    "Running the cell will run `tokenize` on sample data and show output for debugging."
   ]
  },
  {
   "cell_type": "code",
   "execution_count": 7,
   "metadata": {},
   "outputs": [
    {
     "name": "stdout",
     "output_type": "stream",
     "text": [
      "{'the': 1, 'quick': 2, 'a': 3, 'brown': 4, 'fox': 5, 'jumps': 6, 'over': 7, 'lazy': 8, 'dog': 9, 'by': 10, 'jove': 11, 'my': 12, 'study': 13, 'of': 14, 'lexicography': 15, 'won': 16, 'prize': 17, 'this': 18, 'is': 19, 'short': 20, 'sentence': 21}\n",
      "\n",
      "Sequence 1 in x\n",
      "  Input:  The quick brown fox jumps over the lazy dog .\n",
      "  Output: [1, 2, 4, 5, 6, 7, 1, 8, 9]\n",
      "Sequence 2 in x\n",
      "  Input:  By Jove , my quick study of lexicography won a prize .\n",
      "  Output: [10, 11, 12, 2, 13, 14, 15, 16, 3, 17]\n",
      "Sequence 3 in x\n",
      "  Input:  This is a short sentence .\n",
      "  Output: [18, 19, 3, 20, 21]\n"
     ]
    }
   ],
   "source": [
    "def tokenize(x):\n",
    "    \"\"\"\n",
    "    Tokenize x\n",
    "    :param x: List of sentences/strings to be tokenized\n",
    "    :return: Tuple of (tokenized x data, tokenizer used to tokenize x)\n",
    "    \"\"\"\n",
    "    # TODO: Implement\n",
    "    #x_tk = Tokenizer(char_level=False) # does the same as below\n",
    "    x_tk = Tokenizer()\n",
    "    x_tk.fit_on_texts(x)\n",
    "    return x_tk.texts_to_sequences(x), x_tk\n",
    "\n",
    "tests.test_tokenize(tokenize)\n",
    "\n",
    "# Tokenize Example output\n",
    "text_sentences = [\n",
    "    'The quick brown fox jumps over the lazy dog .',\n",
    "    'By Jove , my quick study of lexicography won a prize .',\n",
    "    'This is a short sentence .']\n",
    "text_tokenized, text_tokenizer = tokenize(text_sentences)\n",
    "print(text_tokenizer.word_index)\n",
    "print()\n",
    "for sample_i, (sent, token_sent) in enumerate(zip(text_sentences, text_tokenized)):\n",
    "    print('Sequence {} in x'.format(sample_i + 1))\n",
    "    print('  Input:  {}'.format(sent))\n",
    "    print('  Output: {}'.format(token_sent))"
   ]
  },
  {
   "cell_type": "markdown",
   "metadata": {},
   "source": [
    "### Padding (IMPLEMENTATION)\n",
    "When batching the sequence of word ids together, each sequence needs to be the same length.  Since sentences are dynamic in length, we can add padding to the end of the sequences to make them the same length.\n",
    "\n",
    "Make sure all the English sequences have the same length and all the French sequences have the same length by adding padding to the **end** of each sequence using Keras's [`pad_sequences`](https://keras.io/preprocessing/sequence/#pad_sequences) function."
   ]
  },
  {
   "cell_type": "code",
   "execution_count": 8,
   "metadata": {},
   "outputs": [
    {
     "name": "stdout",
     "output_type": "stream",
     "text": [
      "Sequence 1 in x\n",
      "  Input:  [1 2 4 5 6 7 1 8 9]\n",
      "  Output: [1 2 4 5 6 7 1 8 9 0]\n",
      "Sequence 2 in x\n",
      "  Input:  [10 11 12  2 13 14 15 16  3 17]\n",
      "  Output: [10 11 12  2 13 14 15 16  3 17]\n",
      "Sequence 3 in x\n",
      "  Input:  [18 19  3 20 21]\n",
      "  Output: [18 19  3 20 21  0  0  0  0  0]\n"
     ]
    }
   ],
   "source": [
    "def pad(x, length=None):\n",
    "    \"\"\"\n",
    "    Pad x\n",
    "    :param x: List of sequences.\n",
    "    :param length: Length to pad the sequence to.  If None, use length of longest sequence in x.\n",
    "    :return: Padded numpy array of sequences\n",
    "    \"\"\"\n",
    "    # TODO: Implement\n",
    "    if length is None:\n",
    "        length = max([len(sentence) for sentence in x])\n",
    "    return pad_sequences(x, maxlen=length, padding='post')\n",
    "\n",
    "tests.test_pad(pad)\n",
    "\n",
    "# Pad Tokenized output\n",
    "test_pad = pad(text_tokenized)\n",
    "for sample_i, (token_sent, pad_sent) in enumerate(zip(text_tokenized, test_pad)):\n",
    "    print('Sequence {} in x'.format(sample_i + 1))\n",
    "    print('  Input:  {}'.format(np.array(token_sent)))\n",
    "    print('  Output: {}'.format(pad_sent))"
   ]
  },
  {
   "cell_type": "markdown",
   "metadata": {},
   "source": [
    "### Preprocess Pipeline\n",
    "Your focus for this project is to build neural network architecture, so we won't ask you to create a preprocess pipeline.  Instead, we've provided you with the implementation of the `preprocess` function."
   ]
  },
  {
   "cell_type": "code",
   "execution_count": 9,
   "metadata": {},
   "outputs": [
    {
     "name": "stdout",
     "output_type": "stream",
     "text": [
      "Data Preprocessed\n",
      "Max English sentence length: 15\n",
      "Max French sentence length: 21\n",
      "English vocabulary size: 199\n",
      "French vocabulary size: 344\n"
     ]
    }
   ],
   "source": [
    "def preprocess(x, y):\n",
    "    \"\"\"\n",
    "    Preprocess x and y\n",
    "    :param x: Feature List of sentences\n",
    "    :param y: Label List of sentences\n",
    "    :return: Tuple of (Preprocessed x, Preprocessed y, x tokenizer, y tokenizer)\n",
    "    \"\"\"\n",
    "    preprocess_x, x_tk = tokenize(x)\n",
    "    preprocess_y, y_tk = tokenize(y)\n",
    "\n",
    "    preprocess_x = pad(preprocess_x)\n",
    "    preprocess_y = pad(preprocess_y)\n",
    "\n",
    "    # Keras's sparse_categorical_crossentropy function requires the labels to be in 3 dimensions\n",
    "    preprocess_y = preprocess_y.reshape(*preprocess_y.shape, 1)\n",
    "\n",
    "    return preprocess_x, preprocess_y, x_tk, y_tk\n",
    "\n",
    "preproc_english_sentences, preproc_french_sentences, english_tokenizer, french_tokenizer =\\\n",
    "    preprocess(english_sentences, french_sentences)\n",
    "    \n",
    "max_english_sequence_length = preproc_english_sentences.shape[1]\n",
    "max_french_sequence_length = preproc_french_sentences.shape[1]\n",
    "english_vocab_size = len(english_tokenizer.word_index)\n",
    "french_vocab_size = len(french_tokenizer.word_index)\n",
    "\n",
    "print('Data Preprocessed')\n",
    "print(\"Max English sentence length:\", max_english_sequence_length)\n",
    "print(\"Max French sentence length:\", max_french_sequence_length)\n",
    "print(\"English vocabulary size:\", english_vocab_size)\n",
    "print(\"French vocabulary size:\", french_vocab_size)"
   ]
  },
  {
   "cell_type": "markdown",
   "metadata": {},
   "source": [
    "## Models\n",
    "In this section, you will experiment with various neural network architectures.\n",
    "You will begin by training four relatively simple architectures.\n",
    "- Model 1 is a simple RNN\n",
    "- Model 2 is a RNN with Embedding\n",
    "- Model 3 is a Bidirectional RNN\n",
    "- Model 4 is an optional Encoder-Decoder RNN\n",
    "\n",
    "After experimenting with the four simple architectures, you will construct a deeper architecture that is designed to outperform all four models.\n",
    "### Ids Back to Text\n",
    "The neural network will be translating the input to words ids, which isn't the final form we want.  We want the French translation.  The function `logits_to_text` will bridge the gab between the logits from the neural network to the French translation.  You'll be using this function to better understand the output of the neural network."
   ]
  },
  {
   "cell_type": "code",
   "execution_count": 10,
   "metadata": {},
   "outputs": [
    {
     "name": "stdout",
     "output_type": "stream",
     "text": [
      "`logits_to_text` function loaded.\n"
     ]
    }
   ],
   "source": [
    "def logits_to_text(logits, tokenizer):\n",
    "    \"\"\"\n",
    "    Turn logits from a neural network into text using the tokenizer\n",
    "    :param logits: Logits from a neural network\n",
    "    :param tokenizer: Keras Tokenizer fit on the labels\n",
    "    :return: String that represents the text of the logits\n",
    "    \"\"\"\n",
    "    index_to_words = {id: word for word, id in tokenizer.word_index.items()}\n",
    "    index_to_words[0] = '<PAD>'\n",
    "\n",
    "    return ' '.join([index_to_words[prediction] for prediction in np.argmax(logits, 1)])\n",
    "\n",
    "print('`logits_to_text` function loaded.')"
   ]
  },
  {
   "cell_type": "markdown",
   "metadata": {},
   "source": [
    "### Model 1: RNN (IMPLEMENTATION)\n",
    "![RNN](images/rnn.png)\n",
    "A basic RNN model is a good baseline for sequence data.  In this model, you'll build a RNN that translates English to French."
   ]
  },
  {
   "cell_type": "code",
   "execution_count": 13,
   "metadata": {},
   "outputs": [
    {
     "name": "stdout",
     "output_type": "stream",
     "text": [
      "Train on 110288 samples, validate on 27573 samples\n",
      "Epoch 1/20\n",
      "110288/110288 [==============================] - 27s 249us/step - loss: 1.5038 - acc: 0.6061 - val_loss: 1.1157 - val_acc: 0.6583\n",
      "Epoch 2/20\n",
      "110288/110288 [==============================] - 27s 244us/step - loss: 1.0489 - acc: 0.6654 - val_loss: 0.9749 - val_acc: 0.6756\n",
      "Epoch 3/20\n",
      "110288/110288 [==============================] - 27s 245us/step - loss: 0.9408 - acc: 0.6886 - val_loss: 0.8796 - val_acc: 0.7039\n",
      "Epoch 4/20\n",
      "110288/110288 [==============================] - 27s 244us/step - loss: 0.8329 - acc: 0.7267 - val_loss: 0.7666 - val_acc: 0.7454\n",
      "Epoch 5/20\n",
      "110288/110288 [==============================] - 27s 244us/step - loss: 0.7570 - acc: 0.7509 - val_loss: 0.7101 - val_acc: 0.7693\n",
      "Epoch 6/20\n",
      "110288/110288 [==============================] - 27s 244us/step - loss: 0.7060 - acc: 0.7680 - val_loss: 0.6562 - val_acc: 0.7897\n",
      "Epoch 7/20\n",
      "110288/110288 [==============================] - 27s 244us/step - loss: 0.6611 - acc: 0.7819 - val_loss: 0.6292 - val_acc: 0.7978\n",
      "Epoch 8/20\n",
      "110288/110288 [==============================] - 27s 244us/step - loss: 0.6308 - acc: 0.7912 - val_loss: 0.6219 - val_acc: 0.7939\n",
      "Epoch 9/20\n",
      "110288/110288 [==============================] - 27s 244us/step - loss: 0.5973 - acc: 0.8034 - val_loss: 0.5898 - val_acc: 0.8070\n",
      "Epoch 10/20\n",
      "110288/110288 [==============================] - 27s 244us/step - loss: 0.5751 - acc: 0.8102 - val_loss: 0.5345 - val_acc: 0.8258\n",
      "Epoch 11/20\n",
      "110288/110288 [==============================] - 27s 244us/step - loss: 0.5633 - acc: 0.8147 - val_loss: 0.5178 - val_acc: 0.8357\n",
      "Epoch 12/20\n",
      "110288/110288 [==============================] - 27s 244us/step - loss: 0.5343 - acc: 0.8241 - val_loss: 0.5042 - val_acc: 0.8394\n",
      "Epoch 13/20\n",
      "110288/110288 [==============================] - 27s 244us/step - loss: 0.5270 - acc: 0.8257 - val_loss: 0.8253 - val_acc: 0.7434\n",
      "Epoch 14/20\n",
      "110288/110288 [==============================] - 27s 244us/step - loss: 0.5131 - acc: 0.8305 - val_loss: 0.4800 - val_acc: 0.8471\n",
      "Epoch 15/20\n",
      "110288/110288 [==============================] - 27s 244us/step - loss: 0.5032 - acc: 0.8365 - val_loss: 0.4820 - val_acc: 0.8437\n",
      "Epoch 16/20\n",
      "110288/110288 [==============================] - 27s 244us/step - loss: 0.4714 - acc: 0.8443 - val_loss: 0.4532 - val_acc: 0.8540\n",
      "Epoch 17/20\n",
      "110288/110288 [==============================] - 27s 244us/step - loss: 0.4660 - acc: 0.8471 - val_loss: 0.4734 - val_acc: 0.8444\n",
      "Epoch 18/20\n",
      "110288/110288 [==============================] - 27s 244us/step - loss: 0.4482 - acc: 0.8528 - val_loss: 0.4045 - val_acc: 0.8724\n",
      "Epoch 19/20\n",
      "110288/110288 [==============================] - 27s 244us/step - loss: 0.4358 - acc: 0.8565 - val_loss: 0.6767 - val_acc: 0.7700\n",
      "Epoch 20/20\n",
      "110288/110288 [==============================] - 27s 244us/step - loss: 0.4457 - acc: 0.8520 - val_loss: 0.4126 - val_acc: 0.8642\n",
      "new jersey est parfois calme en mois et l' automne et en est <PAD> en avril <PAD> <PAD> <PAD> <PAD> <PAD>\n"
     ]
    }
   ],
   "source": [
    "def simple_model(input_shape, output_sequence_length, english_vocab_size, french_vocab_size):\n",
    "    \"\"\"\n",
    "    Build and train a basic RNN on x and y\n",
    "    :param input_shape: Tuple of input shape\n",
    "    :param output_sequence_length: Length of output sequence\n",
    "    :param english_vocab_size: Number of unique English words in the dataset\n",
    "    :param french_vocab_size: Number of unique French words in the dataset\n",
    "    :return: Keras model built, but not trained\n",
    "    \"\"\"\n",
    "    # TODO: Build the layers\n",
    "    learning_rate = 1e-3\n",
    "    \n",
    "    input_seq = Input(input_shape[1:])\n",
    "    gru = GRU(512, activation='relu', return_sequences=True)\n",
    "    rnn = gru(input_seq)\n",
    "    logits = TimeDistributed(Dense(french_vocab_size))(rnn) # this is the output (integers)\n",
    "    \n",
    "    model = Model(input_seq, Activation('softmax')(logits))\n",
    "    # model = Model(inputs=inputs, outputs=outputs)\n",
    "    model.compile(loss=sparse_categorical_crossentropy,\n",
    "                  optimizer=Adam(learning_rate),\n",
    "                  metrics=['accuracy'])\n",
    "    return model\n",
    "\n",
    "tests.test_simple_model(simple_model)\n",
    "\n",
    "# Reshaping the input to work with a basic RNN\n",
    "tmp_x = pad(preproc_english_sentences, max_french_sequence_length)\n",
    "tmp_x = tmp_x.reshape((-1, preproc_french_sentences.shape[-2], 1))\n",
    "\n",
    "# Train the neural network\n",
    "simple_rnn_model = simple_model(\n",
    "        tmp_x.shape,\n",
    "        max_french_sequence_length,\n",
    "        english_vocab_size + 1,\n",
    "        french_vocab_size + 1)\n",
    "simple_rnn_model.fit(tmp_x, preproc_french_sentences, batch_size=256, epochs=20, validation_split=0.2)\n",
    "\n",
    "# Print prediction(s)\n",
    "print(logits_to_text(simple_rnn_model.predict(tmp_x[:1])[0], french_tokenizer))"
   ]
  },
  {
   "cell_type": "code",
   "execution_count": 14,
   "metadata": {},
   "outputs": [
    {
     "name": "stdout",
     "output_type": "stream",
     "text": [
      "_________________________________________________________________\n",
      "Layer (type)                 Output Shape              Param #   \n",
      "=================================================================\n",
      "input_6 (InputLayer)         (None, 21, 1)             0         \n",
      "_________________________________________________________________\n",
      "gru_6 (GRU)                  (None, 21, 512)           789504    \n",
      "_________________________________________________________________\n",
      "time_distributed_6 (TimeDist (None, 21, 345)           176985    \n",
      "_________________________________________________________________\n",
      "activation_6 (Activation)    (None, 21, 345)           0         \n",
      "=================================================================\n",
      "Total params: 966,489\n",
      "Trainable params: 966,489\n",
      "Non-trainable params: 0\n",
      "_________________________________________________________________\n"
     ]
    }
   ],
   "source": [
    "simple_rnn_model.summary()"
   ]
  },
  {
   "cell_type": "markdown",
   "metadata": {},
   "source": [
    "### Model 2: Embedding (IMPLEMENTATION)\n",
    "![RNN](images/embedding.png)\n",
    "You've turned the words into ids, but there's a better representation of a word.  This is called word embeddings.  An embedding is a vector representation of the word that is close to similar words in n-dimensional space, where the n represents the size of the embedding vectors.\n",
    "\n",
    "In this model, you'll create a RNN model using embedding."
   ]
  },
  {
   "cell_type": "code",
   "execution_count": 27,
   "metadata": {},
   "outputs": [
    {
     "name": "stdout",
     "output_type": "stream",
     "text": [
      "Train on 110288 samples, validate on 27573 samples\n",
      "Epoch 1/20\n",
      "110288/110288 [==============================] - 18s 163us/step - loss: 1.5799 - acc: 0.6764 - val_loss: 0.6423 - val_acc: 0.8169\n",
      "Epoch 2/20\n",
      "110288/110288 [==============================] - 17s 158us/step - loss: 0.5064 - acc: 0.8483 - val_loss: 0.4088 - val_acc: 0.8730\n",
      "Epoch 3/20\n",
      "110288/110288 [==============================] - 17s 157us/step - loss: 0.3755 - acc: 0.8826 - val_loss: 0.3436 - val_acc: 0.8924\n",
      "Epoch 4/20\n",
      "110288/110288 [==============================] - 17s 157us/step - loss: 0.3202 - acc: 0.8978 - val_loss: 0.2998 - val_acc: 0.9037\n",
      "Epoch 5/20\n",
      "110288/110288 [==============================] - 17s 158us/step - loss: 0.2847 - acc: 0.9080 - val_loss: 0.2783 - val_acc: 0.9096\n",
      "Epoch 6/20\n",
      "110288/110288 [==============================] - 17s 158us/step - loss: 0.2635 - acc: 0.9144 - val_loss: 0.2683 - val_acc: 0.9123\n",
      "Epoch 7/20\n",
      "110288/110288 [==============================] - 17s 157us/step - loss: 0.2501 - acc: 0.9182 - val_loss: 0.2567 - val_acc: 0.9170\n",
      "Epoch 8/20\n",
      "110288/110288 [==============================] - 17s 157us/step - loss: 0.2387 - acc: 0.9215 - val_loss: 0.2368 - val_acc: 0.9227\n",
      "Epoch 9/20\n",
      "110288/110288 [==============================] - 17s 157us/step - loss: 0.2295 - acc: 0.9240 - val_loss: 0.2417 - val_acc: 0.9216\n",
      "Epoch 10/20\n",
      "110288/110288 [==============================] - 17s 157us/step - loss: 0.2229 - acc: 0.9260 - val_loss: 0.2284 - val_acc: 0.9258\n",
      "Epoch 11/20\n",
      "110288/110288 [==============================] - 17s 157us/step - loss: 0.2168 - acc: 0.9278 - val_loss: 0.2284 - val_acc: 0.9248\n",
      "Epoch 12/20\n",
      "110288/110288 [==============================] - 17s 157us/step - loss: 0.2127 - acc: 0.9288 - val_loss: 0.2187 - val_acc: 0.9281\n",
      "Epoch 13/20\n",
      "110288/110288 [==============================] - 17s 158us/step - loss: 0.2085 - acc: 0.9301 - val_loss: 0.2158 - val_acc: 0.9287\n",
      "Epoch 14/20\n",
      "110288/110288 [==============================] - 17s 157us/step - loss: 0.2068 - acc: 0.9304 - val_loss: 0.2115 - val_acc: 0.9300\n",
      "Epoch 15/20\n",
      "110288/110288 [==============================] - 17s 157us/step - loss: 0.2012 - acc: 0.9321 - val_loss: 0.2115 - val_acc: 0.9298\n",
      "Epoch 16/20\n",
      "110288/110288 [==============================] - 17s 158us/step - loss: 0.1989 - acc: 0.9328 - val_loss: 0.2086 - val_acc: 0.9308\n",
      "Epoch 17/20\n",
      "110288/110288 [==============================] - 17s 158us/step - loss: 0.1966 - acc: 0.9335 - val_loss: 0.2027 - val_acc: 0.9330\n",
      "Epoch 18/20\n",
      "110288/110288 [==============================] - 17s 156us/step - loss: 0.1960 - acc: 0.9333 - val_loss: 0.2068 - val_acc: 0.9316\n",
      "Epoch 19/20\n",
      "110288/110288 [==============================] - 17s 157us/step - loss: 0.1921 - acc: 0.9348 - val_loss: 0.2069 - val_acc: 0.9318\n",
      "Epoch 20/20\n",
      "110288/110288 [==============================] - 17s 158us/step - loss: 0.1904 - acc: 0.9351 - val_loss: 0.2001 - val_acc: 0.9332\n",
      "new jersey est parfois calme en l' et et il neigeux neigeux en avril <PAD> <PAD> <PAD> <PAD> <PAD> <PAD> <PAD>\n"
     ]
    }
   ],
   "source": [
    "def embed_model(input_shape, output_sequence_length, english_vocab_size, french_vocab_size):\n",
    "    \n",
    "    learning_rate = 1e-3\n",
    "    embedding_dim = 300\n",
    "    \n",
    "    input_layer = Input(shape=input_shape[1:],\n",
    "                        dtype='float32',\n",
    "                        name='input_layer')\n",
    "    x = Embedding(english_vocab_size,\n",
    "                  embedding_dim,\n",
    "                  input_length=output_sequence_length)(input_layer)\n",
    "    # input_length=output_sequence_length\n",
    "    x = GRU(128, activation='relu', return_sequences=True)(x)\n",
    "    output_layer = TimeDistributed(Dense(french_vocab_size,\n",
    "                         activation='softmax',\n",
    "                         name='output_layer'))(x)\n",
    "    \n",
    "    model = Model(inputs=input_layer, outputs=output_layer)\n",
    "    model.compile(loss=sparse_categorical_crossentropy,\n",
    "                  optimizer=Adam(learning_rate),\n",
    "                  metrics=['accuracy'])\n",
    "    return model\n",
    "\n",
    "tests.test_embed_model(embed_model)\n",
    "\n",
    "# TODO: Reshape the input\n",
    "tmp_x = pad(preproc_english_sentences, max_french_sequence_length)\n",
    "#tmp_x = tmp_x.reshape((-1, preproc_french_sentences.shape[-2], 1))\n",
    "\n",
    "# TODO: Train the neural network\n",
    "emb_rnn_model = embed_model(\n",
    "                            tmp_x.shape,\n",
    "                            max_french_sequence_length,\n",
    "                            english_vocab_size + 1,\n",
    "                            french_vocab_size + 1)\n",
    "\n",
    "history = emb_rnn_model.fit(tmp_x, preproc_french_sentences, batch_size=256, epochs=20, validation_split=0.2)\n",
    "\n",
    "# TODO: Print prediction(s)\n",
    "print(logits_to_text(emb_rnn_model.predict(tmp_x[:1])[0], french_tokenizer))"
   ]
  },
  {
   "cell_type": "code",
   "execution_count": 28,
   "metadata": {},
   "outputs": [
    {
     "name": "stdout",
     "output_type": "stream",
     "text": [
      "Model Prediction:\n",
      "new jersey est parfois calme en l' et et il neigeux neigeux en avril <PAD> <PAD> <PAD> <PAD> <PAD> <PAD> <PAD>\n",
      "French Translation (Ground Truth):\n",
      "[\"new jersey est parfois calme pendant l' automne , et il est neigeux en avril .\"]\n",
      "English Text:\n",
      "['new jersey is sometimes quiet during autumn , and it is snowy in april .']\n"
     ]
    }
   ],
   "source": [
    "print('Model Prediction:')\n",
    "print(logits_to_text(emb_rnn_model.predict(tmp_x[:1])[0], french_tokenizer))\n",
    "\n",
    "print('French Translation (Ground Truth):')\n",
    "print(french_sentences[:1])\n",
    "\n",
    "print('English Text:')\n",
    "print(english_sentences[:1])"
   ]
  },
  {
   "cell_type": "code",
   "execution_count": 29,
   "metadata": {},
   "outputs": [
    {
     "name": "stdout",
     "output_type": "stream",
     "text": [
      "_________________________________________________________________\n",
      "Layer (type)                 Output Shape              Param #   \n",
      "=================================================================\n",
      "input_layer (InputLayer)     (None, 21)                0         \n",
      "_________________________________________________________________\n",
      "embedding_4 (Embedding)      (None, 21, 300)           60000     \n",
      "_________________________________________________________________\n",
      "gru_10 (GRU)                 (None, 21, 128)           164736    \n",
      "_________________________________________________________________\n",
      "time_distributed_10 (TimeDis (None, 21, 345)           44505     \n",
      "=================================================================\n",
      "Total params: 269,241\n",
      "Trainable params: 269,241\n",
      "Non-trainable params: 0\n",
      "_________________________________________________________________\n"
     ]
    }
   ],
   "source": [
    "emb_rnn_model.summary()"
   ]
  },
  {
   "cell_type": "code",
   "execution_count": 11,
   "metadata": {},
   "outputs": [],
   "source": [
    "def plotting_results(history):\n",
    "    \"\"\"\n",
    "    Plot results of a model trainig\n",
    "    \"\"\"\n",
    "    acc = history.history['acc']\n",
    "    val_acc = history.history['val_acc']\n",
    "    loss = history.history['loss']\n",
    "    val_loss = history.history['val_loss']\n",
    "\n",
    "    epochs = range(1, len(acc) + 1)\n",
    "\n",
    "    plt.plot(epochs, acc, 'bo', label='Training acc')\n",
    "    plt.plot(epochs, val_acc, 'b', label='Validation acc')\n",
    "    plt.title('Training and validation accuracy')\n",
    "    plt.legend()\n",
    "\n",
    "    plt.figure()\n",
    "\n",
    "    plt.plot(epochs, loss, 'bo', label='Training loss')\n",
    "    plt.plot(epochs, val_loss, 'b', label='Validation loss')\n",
    "    plt.title('Training and validation loss')\n",
    "    plt.legend()\n",
    "\n",
    "    plt.show()"
   ]
  },
  {
   "cell_type": "code",
   "execution_count": 31,
   "metadata": {},
   "outputs": [
    {
     "data": {
      "image/png": "[encoded data removed]",
      "text/plain": [
       "<matplotlib.figure.Figure at 0x7f0ea9760518>"
      ]
     },
     "metadata": {
      "needs_background": "light"
     },
     "output_type": "display_data"
    },
    {
     "data": {
      "image/png": "[encoded data removed]",
      "text/plain": [
       "<matplotlib.figure.Figure at 0x7f0ea4efee48>"
      ]
     },
     "metadata": {
      "needs_background": "light"
     },
     "output_type": "display_data"
    }
   ],
   "source": [
    "plotting_results(history)"
   ]
  },
  {
   "cell_type": "markdown",
   "metadata": {},
   "source": [
    "### Model 3: Bidirectional RNNs (IMPLEMENTATION)\n",
    "![RNN](images/bidirectional.png)\n",
    "One restriction of a RNN is that it can't see the future input, only the past.  This is where bidirectional recurrent neural networks come in.  They are able to see the future data."
   ]
  },
  {
   "cell_type": "code",
   "execution_count": 32,
   "metadata": {},
   "outputs": [
    {
     "name": "stdout",
     "output_type": "stream",
     "text": [
      "Train on 110288 samples, validate on 27573 samples\n",
      "Epoch 1/20\n",
      "110288/110288 [==============================] - 49s 448us/step - loss: 1.3473 - acc: 0.6341 - val_loss: 1.0562 - val_acc: 0.6820\n",
      "Epoch 2/20\n",
      "110288/110288 [==============================] - 49s 440us/step - loss: 0.9753 - acc: 0.6915 - val_loss: 0.9060 - val_acc: 0.7051\n",
      "Epoch 3/20\n",
      "110288/110288 [==============================] - 48s 440us/step - loss: 0.8731 - acc: 0.7103 - val_loss: 0.8126 - val_acc: 0.7279\n",
      "Epoch 4/20\n",
      "110288/110288 [==============================] - 48s 440us/step - loss: 0.7768 - acc: 0.7449 - val_loss: 0.7034 - val_acc: 0.7727\n",
      "Epoch 5/20\n",
      "110288/110288 [==============================] - 48s 439us/step - loss: 0.6907 - acc: 0.7736 - val_loss: 0.6468 - val_acc: 0.7898\n",
      "Epoch 6/20\n",
      "110288/110288 [==============================] - 48s 440us/step - loss: 0.6341 - acc: 0.7913 - val_loss: 0.6232 - val_acc: 0.7907\n",
      "Epoch 7/20\n",
      "110288/110288 [==============================] - 48s 439us/step - loss: 0.5981 - acc: 0.8015 - val_loss: 0.5695 - val_acc: 0.8131\n",
      "Epoch 8/20\n",
      "110288/110288 [==============================] - 48s 439us/step - loss: 0.5615 - acc: 0.8135 - val_loss: 0.6150 - val_acc: 0.7945\n",
      "Epoch 9/20\n",
      "110288/110288 [==============================] - 48s 439us/step - loss: 0.5333 - acc: 0.8221 - val_loss: 0.4937 - val_acc: 0.8392\n",
      "Epoch 10/20\n",
      "110288/110288 [==============================] - 48s 440us/step - loss: 0.5133 - acc: 0.8298 - val_loss: 0.5569 - val_acc: 0.8083\n",
      "Epoch 11/20\n",
      "110288/110288 [==============================] - 48s 440us/step - loss: 0.4769 - acc: 0.8415 - val_loss: 0.4622 - val_acc: 0.8476\n",
      "Epoch 12/20\n",
      "110288/110288 [==============================] - 48s 439us/step - loss: 0.4661 - acc: 0.8454 - val_loss: 0.4480 - val_acc: 0.8574\n",
      "Epoch 13/20\n",
      "110288/110288 [==============================] - 48s 439us/step - loss: 0.4499 - acc: 0.8503 - val_loss: 0.4689 - val_acc: 0.8434\n",
      "Epoch 14/20\n",
      "110288/110288 [==============================] - 48s 440us/step - loss: 0.4266 - acc: 0.8594 - val_loss: 0.4157 - val_acc: 0.8645\n",
      "Epoch 15/20\n",
      "110288/110288 [==============================] - 48s 440us/step - loss: 0.4053 - acc: 0.8670 - val_loss: 0.3696 - val_acc: 0.8849\n",
      "Epoch 16/20\n",
      "110288/110288 [==============================] - 48s 440us/step - loss: 0.4299 - acc: 0.8610 - val_loss: 0.4377 - val_acc: 0.8521\n",
      "Epoch 17/20\n",
      "110288/110288 [==============================] - 48s 440us/step - loss: 0.4059 - acc: 0.8667 - val_loss: 0.3979 - val_acc: 0.8693\n",
      "Epoch 18/20\n",
      "110288/110288 [==============================] - 49s 440us/step - loss: 0.3732 - acc: 0.8779 - val_loss: 0.3745 - val_acc: 0.8795\n",
      "Epoch 19/20\n",
      "110288/110288 [==============================] - 49s 440us/step - loss: 0.3764 - acc: 0.8777 - val_loss: 0.3522 - val_acc: 0.8852\n",
      "Epoch 20/20\n",
      "110288/110288 [==============================] - 48s 440us/step - loss: 0.3565 - acc: 0.8836 - val_loss: 0.3320 - val_acc: 0.8940\n",
      "new jersey est parfois calme pendant mars automne et il est neigeux en avril <PAD> <PAD> <PAD> <PAD> <PAD> <PAD> <PAD>\n"
     ]
    }
   ],
   "source": [
    "def bd_model(input_shape, output_sequence_length, english_vocab_size, french_vocab_size):\n",
    "    \"\"\"\n",
    "    Build and train a bidirectional RNN model on x and y\n",
    "    :param input_shape: Tuple of input shape\n",
    "    :param output_sequence_length: Length of output sequence\n",
    "    :param english_vocab_size: Number of unique English words in the dataset\n",
    "    :param french_vocab_size: Number of unique French words in the dataset\n",
    "    :return: Keras model built, but not trained\n",
    "    \"\"\"\n",
    "    # TODO: Implement\n",
    "    \n",
    "    learning_rate = 1e-3\n",
    "    \n",
    "    input_layer = Input(shape=input_shape[1:],\n",
    "                        dtype='float32',\n",
    "                        name='input_layer')\n",
    "    rl = Bidirectional(GRU(512, activation='relu', return_sequences=True))(input_layer)\n",
    "    output_layer = TimeDistributed(Dense(french_vocab_size,\n",
    "                         activation='softmax',\n",
    "                         name='output_layer'))(rl)\n",
    "    \n",
    "    model = Model(inputs=input_layer, outputs=output_layer)\n",
    "    model.compile(loss=sparse_categorical_crossentropy,\n",
    "                  optimizer=Adam(learning_rate),\n",
    "                  metrics=['accuracy'])\n",
    "    \n",
    "    return model\n",
    "tests.test_bd_model(bd_model)\n",
    "\n",
    "\n",
    "# TODO: Train and Print prediction(s)\n",
    "tmp_x = pad(preproc_english_sentences, max_french_sequence_length)\n",
    "tmp_x = tmp_x.reshape((-1, preproc_french_sentences.shape[-2], 1))\n",
    "\n",
    "bd_rnn_model = bd_model(\n",
    "                        tmp_x.shape,\n",
    "                        max_french_sequence_length,\n",
    "                        english_vocab_size + 1,\n",
    "                        french_vocab_size + 1)\n",
    "\n",
    "history = bd_rnn_model.fit(tmp_x, preproc_french_sentences, batch_size=256, epochs=20, validation_split=0.2)\n",
    "print(logits_to_text(bd_rnn_model.predict(tmp_x[:1])[0], french_tokenizer))"
   ]
  },
  {
   "cell_type": "code",
   "execution_count": 33,
   "metadata": {},
   "outputs": [
    {
     "name": "stdout",
     "output_type": "stream",
     "text": [
      "_________________________________________________________________\n",
      "Layer (type)                 Output Shape              Param #   \n",
      "=================================================================\n",
      "input_layer (InputLayer)     (None, 21, 1)             0         \n",
      "_________________________________________________________________\n",
      "bidirectional_2 (Bidirection (None, 21, 1024)          1579008   \n",
      "_________________________________________________________________\n",
      "time_distributed_12 (TimeDis (None, 21, 345)           353625    \n",
      "=================================================================\n",
      "Total params: 1,932,633\n",
      "Trainable params: 1,932,633\n",
      "Non-trainable params: 0\n",
      "_________________________________________________________________\n"
     ]
    }
   ],
   "source": [
    "bd_rnn_model.summary()"
   ]
  },
  {
   "cell_type": "code",
   "execution_count": 34,
   "metadata": {},
   "outputs": [
    {
     "name": "stdout",
     "output_type": "stream",
     "text": [
      "Model Prediction:\n",
      "new jersey est parfois calme pendant mars automne et il est neigeux en avril <PAD> <PAD> <PAD> <PAD> <PAD> <PAD> <PAD>\n",
      "French Translation (Ground Truth):\n",
      "[\"new jersey est parfois calme pendant l' automne , et il est neigeux en avril .\"]\n",
      "English Text:\n",
      "['new jersey is sometimes quiet during autumn , and it is snowy in april .']\n"
     ]
    }
   ],
   "source": [
    "print('Model Prediction:')\n",
    "print(logits_to_text(bd_rnn_model.predict(tmp_x[:1])[0], french_tokenizer))\n",
    "\n",
    "print('French Translation (Ground Truth):')\n",
    "print(french_sentences[:1])\n",
    "\n",
    "print('English Text:')\n",
    "print(english_sentences[:1])"
   ]
  },
  {
   "cell_type": "code",
   "execution_count": 35,
   "metadata": {},
   "outputs": [
    {
     "data": {
      "image/png": "[encoded data removed]",
      "text/plain": [
       "<matplotlib.figure.Figure at 0x7f0ea4e5d3c8>"
      ]
     },
     "metadata": {
      "needs_background": "light"
     },
     "output_type": "display_data"
    },
    {
     "data": {
      "image/png": "[encoded data removed]",
      "text/plain": [
       "<matplotlib.figure.Figure at 0x7f0e979337f0>"
      ]
     },
     "metadata": {
      "needs_background": "light"
     },
     "output_type": "display_data"
    }
   ],
   "source": [
    "plotting_results(history)"
   ]
  },
  {
   "cell_type": "code",
   "execution_count": 36,
   "metadata": {},
   "outputs": [
    {
     "data": {
      "image/png": "[encoded data removed]",
      "text/plain": [
       "<IPython.core.display.Image object>"
      ]
     },
     "execution_count": 36,
     "metadata": {},
     "output_type": "execute_result"
    }
   ],
   "source": [
    "from keras.utils import plot_model\n",
    "from IPython.display import Image\n",
    "\n",
    "plot_model(bd_rnn_model, show_shapes=True, show_layer_names=True, to_file='bd_model.png')\n",
    "Image('bd_model.png')"
   ]
  },
  {
   "cell_type": "markdown",
   "metadata": {},
   "source": [
    "### Model 4: Encoder-Decoder (OPTIONAL)\n",
    "Time to look at encoder-decoder models.  This model is made up of an encoder and decoder. The encoder creates a matrix representation of the sentence.  The decoder takes this matrix as input and predicts the translation as output.\n",
    "\n",
    "Create an encoder-decoder model in the cell below."
   ]
  },
  {
   "cell_type": "code",
   "execution_count": null,
   "metadata": {},
   "outputs": [],
   "source": [
    "def encdec_model(input_shape, output_sequence_length, english_vocab_size, french_vocab_size):\n",
    "    \"\"\"\n",
    "    Build and train an encoder-decoder model on x and y\n",
    "    :param input_shape: Tuple of input shape\n",
    "    :param output_sequence_length: Length of output sequence\n",
    "    :param english_vocab_size: Number of unique English words in the dataset\n",
    "    :param french_vocab_size: Number of unique French words in the dataset\n",
    "    :return: Keras model built, but not trained\n",
    "    \"\"\"\n",
    "    # OPTIONAL: Implement\n",
    "    return None\n",
    "tests.test_encdec_model(encdec_model)\n",
    "\n",
    "\n",
    "# OPTIONAL: Train and Print prediction(s)"
   ]
  },
  {
   "cell_type": "markdown",
   "metadata": {},
   "source": [
    "### Model 5: Custom (IMPLEMENTATION)\n",
    "Use everything you learned from the previous models to create a model that incorporates embedding and a bidirectional rnn into one model."
   ]
  },
  {
   "cell_type": "code",
   "execution_count": 12,
   "metadata": {},
   "outputs": [
    {
     "name": "stdout",
     "output_type": "stream",
     "text": [
      "Final Model Loaded\n"
     ]
    }
   ],
   "source": [
    "def model_final(input_shape, output_sequence_length, english_vocab_size, french_vocab_size):\n",
    "    \"\"\"\n",
    "    Build and train a model that incorporates embedding, encoder-decoder, and bidirectional RNN on x and y\n",
    "    :param input_shape: Tuple of input shape\n",
    "    :param output_sequence_length: Length of output sequence\n",
    "    :param english_vocab_size: Number of unique English words in the dataset\n",
    "    :param french_vocab_size: Number of unique French words in the dataset\n",
    "    :return: Keras model built, but not trained\n",
    "    \"\"\"\n",
    "    # TODO: Implement\n",
    "    \n",
    "    learning_rate = 1e-3\n",
    "    embedding_dim = 300\n",
    "    \n",
    "    input_layer = Input(shape=input_shape[1:],\n",
    "                        dtype='float32',\n",
    "                        name='input_layer')\n",
    "    embedding = Embedding(english_vocab_size,\n",
    "                  embedding_dim,\n",
    "                  input_length=output_sequence_length)(input_layer)\n",
    "    rl = Bidirectional(GRU(512, activation='relu', return_sequences=True))(embedding)\n",
    "    output_layer = TimeDistributed(Dense(french_vocab_size,\n",
    "                         activation='softmax',\n",
    "                         name='output_layer'))(rl)\n",
    "    \n",
    "    model = Model(inputs=input_layer, outputs=output_layer)\n",
    "    model.compile(loss=sparse_categorical_crossentropy,\n",
    "                  optimizer=Adam(learning_rate),\n",
    "                  metrics=['accuracy'])\n",
    "    \n",
    "    return model\n",
    "tests.test_model_final(model_final)\n",
    "\n",
    "\n",
    "print('Final Model Loaded')\n",
    "# TODO: Train the final model\n",
    "tmp_x = pad(preproc_english_sentences, max_french_sequence_length)\n",
    "#tmp_x = tmp_x.reshape((-1, preproc_french_sentences.shape[-2], 1))\n",
    "\n",
    "final_rnn_model = model_final(\n",
    "                        tmp_x.shape,\n",
    "                        max_french_sequence_length,\n",
    "                        english_vocab_size + 1,\n",
    "                        french_vocab_size + 1)\n",
    "\n",
    "#final_rnn_model.fit(tmp_x, preproc_french_sentences, batch_size=256, epochs=20, validation_split=0.2)"
   ]
  },
  {
   "cell_type": "code",
   "execution_count": 13,
   "metadata": {},
   "outputs": [
    {
     "name": "stdout",
     "output_type": "stream",
     "text": [
      "_________________________________________________________________\n",
      "Layer (type)                 Output Shape              Param #   \n",
      "=================================================================\n",
      "input_layer (InputLayer)     (None, 21)                0         \n",
      "_________________________________________________________________\n",
      "embedding_2 (Embedding)      (None, 21, 300)           60000     \n",
      "_________________________________________________________________\n",
      "bidirectional_2 (Bidirection (None, 21, 1024)          2497536   \n",
      "_________________________________________________________________\n",
      "time_distributed_2 (TimeDist (None, 21, 345)           353625    \n",
      "=================================================================\n",
      "Total params: 2,911,161\n",
      "Trainable params: 2,911,161\n",
      "Non-trainable params: 0\n",
      "_________________________________________________________________\n"
     ]
    }
   ],
   "source": [
    "final_rnn_model.summary()"
   ]
  },
  {
   "cell_type": "markdown",
   "metadata": {},
   "source": [
    "## Prediction (IMPLEMENTATION)"
   ]
  },
  {
   "cell_type": "code",
   "execution_count": 14,
   "metadata": {},
   "outputs": [
    {
     "name": "stdout",
     "output_type": "stream",
     "text": [
      "Train on 110288 samples, validate on 27573 samples\n",
      "Epoch 1/40\n",
      "110288/110288 [==============================] - 68s 613us/step - loss: 1.1383 - acc: 0.7354 - val_loss: 0.3476 - val_acc: 0.8917\n",
      "Epoch 2/40\n",
      "110288/110288 [==============================] - 66s 596us/step - loss: 0.2543 - acc: 0.9199 - val_loss: 0.1838 - val_acc: 0.9421\n",
      "Epoch 3/40\n",
      "110288/110288 [==============================] - 66s 595us/step - loss: 0.1591 - acc: 0.9494 - val_loss: 0.1394 - val_acc: 0.9560\n",
      "Epoch 4/40\n",
      "110288/110288 [==============================] - 66s 596us/step - loss: 0.1178 - acc: 0.9623 - val_loss: 0.1128 - val_acc: 0.9643\n",
      "Epoch 5/40\n",
      "110288/110288 [==============================] - 66s 595us/step - loss: 0.0963 - acc: 0.9693 - val_loss: 0.1015 - val_acc: 0.9680\n",
      "Epoch 6/40\n",
      "110288/110288 [==============================] - 66s 596us/step - loss: 0.0832 - acc: 0.9736 - val_loss: 0.0933 - val_acc: 0.9707\n",
      "Epoch 7/40\n",
      "110288/110288 [==============================] - 66s 595us/step - loss: 0.0723 - acc: 0.9770 - val_loss: 0.0821 - val_acc: 0.9744\n",
      "Epoch 8/40\n",
      "110288/110288 [==============================] - 66s 596us/step - loss: 0.0655 - acc: 0.9791 - val_loss: 0.0792 - val_acc: 0.9757\n",
      "Epoch 9/40\n",
      "110288/110288 [==============================] - 66s 594us/step - loss: 0.0590 - acc: 0.9812 - val_loss: 0.0714 - val_acc: 0.9780\n",
      "Epoch 10/40\n",
      "110288/110288 [==============================] - 66s 596us/step - loss: 0.0528 - acc: 0.9832 - val_loss: 0.0729 - val_acc: 0.9785\n",
      "Epoch 11/40\n",
      "110288/110288 [==============================] - 66s 594us/step - loss: 0.0520 - acc: 0.9834 - val_loss: 0.0678 - val_acc: 0.9796\n",
      "Epoch 12/40\n",
      "110288/110288 [==============================] - 66s 595us/step - loss: 0.0471 - acc: 0.9849 - val_loss: 0.0660 - val_acc: 0.9800\n",
      "Epoch 13/40\n",
      "110288/110288 [==============================] - 66s 594us/step - loss: 0.0441 - acc: 0.9859 - val_loss: 0.0675 - val_acc: 0.9806\n",
      "Epoch 14/40\n",
      "110288/110288 [==============================] - 66s 595us/step - loss: 0.0406 - acc: 0.9870 - val_loss: 0.0651 - val_acc: 0.9814\n",
      "Epoch 15/40\n",
      "110288/110288 [==============================] - 65s 594us/step - loss: 0.0417 - acc: 0.9868 - val_loss: 0.0695 - val_acc: 0.9803\n",
      "Epoch 16/40\n",
      "110288/110288 [==============================] - 66s 595us/step - loss: 0.0419 - acc: 0.9867 - val_loss: 0.0671 - val_acc: 0.9810\n",
      "Epoch 17/40\n",
      "110288/110288 [==============================] - 65s 594us/step - loss: 0.0340 - acc: 0.9891 - val_loss: 0.0648 - val_acc: 0.9828\n",
      "Epoch 18/40\n",
      "110288/110288 [==============================] - 66s 595us/step - loss: 0.0325 - acc: 0.9897 - val_loss: 0.0634 - val_acc: 0.9824\n",
      "Epoch 19/40\n",
      "110288/110288 [==============================] - 65s 593us/step - loss: 0.0347 - acc: 0.9892 - val_loss: 0.0685 - val_acc: 0.9802\n",
      "Epoch 20/40\n",
      "110288/110288 [==============================] - 66s 594us/step - loss: 0.0337 - acc: 0.9894 - val_loss: 0.0641 - val_acc: 0.9826\n",
      "Epoch 21/40\n",
      "110288/110288 [==============================] - 65s 594us/step - loss: 0.0283 - acc: 0.9911 - val_loss: 0.0648 - val_acc: 0.9831\n",
      "Epoch 22/40\n",
      "110288/110288 [==============================] - 66s 594us/step - loss: 0.0273 - acc: 0.9915 - val_loss: 0.0688 - val_acc: 0.9825\n",
      "Epoch 23/40\n",
      "110288/110288 [==============================] - 65s 594us/step - loss: 0.0276 - acc: 0.9915 - val_loss: 0.0690 - val_acc: 0.9828\n",
      "Epoch 24/40\n",
      "110288/110288 [==============================] - 66s 594us/step - loss: 0.0267 - acc: 0.9918 - val_loss: 0.0702 - val_acc: 0.9818\n",
      "Epoch 25/40\n",
      "110288/110288 [==============================] - 65s 593us/step - loss: 0.0277 - acc: 0.9916 - val_loss: 0.0705 - val_acc: 0.9818\n",
      "Epoch 26/40\n",
      "110288/110288 [==============================] - 66s 595us/step - loss: 0.0244 - acc: 0.9927 - val_loss: 0.0708 - val_acc: 0.9829\n",
      "Epoch 27/40\n",
      "110288/110288 [==============================] - 66s 594us/step - loss: 0.0217 - acc: 0.9934 - val_loss: 0.0718 - val_acc: 0.9831\n",
      "Epoch 28/40\n",
      "110288/110288 [==============================] - 66s 595us/step - loss: 0.0225 - acc: 0.9933 - val_loss: 0.0752 - val_acc: 0.9815\n",
      "Epoch 29/40\n",
      "110288/110288 [==============================] - 65s 593us/step - loss: 0.0243 - acc: 0.9928 - val_loss: 0.0715 - val_acc: 0.9829\n",
      "Epoch 30/40\n",
      "110288/110288 [==============================] - 66s 595us/step - loss: 0.0198 - acc: 0.9942 - val_loss: 0.0721 - val_acc: 0.9828\n",
      "Epoch 31/40\n",
      "110288/110288 [==============================] - 66s 596us/step - loss: 0.0187 - acc: 0.9946 - val_loss: 0.0755 - val_acc: 0.9830\n",
      "Epoch 32/40\n",
      "110288/110288 [==============================] - 66s 596us/step - loss: 0.0196 - acc: 0.9944 - val_loss: 0.0807 - val_acc: 0.9811\n",
      "Epoch 33/40\n",
      "110288/110288 [==============================] - 65s 593us/step - loss: 0.0225 - acc: 0.9935 - val_loss: 0.0767 - val_acc: 0.9830\n",
      "Epoch 34/40\n",
      "110288/110288 [==============================] - 66s 595us/step - loss: 0.0191 - acc: 0.9945 - val_loss: 0.0768 - val_acc: 0.9829\n",
      "Epoch 35/40\n",
      "110288/110288 [==============================] - 66s 594us/step - loss: 0.0153 - acc: 0.9958 - val_loss: 0.0764 - val_acc: 0.9836\n",
      "Epoch 36/40\n",
      "110288/110288 [==============================] - 66s 595us/step - loss: 0.0160 - acc: 0.9957 - val_loss: 0.0800 - val_acc: 0.9828\n",
      "Epoch 37/40\n",
      "110288/110288 [==============================] - 65s 593us/step - loss: 0.0226 - acc: 0.9938 - val_loss: 0.0940 - val_acc: 0.9779\n",
      "Epoch 38/40\n",
      "110288/110288 [==============================] - 66s 595us/step - loss: 0.0218 - acc: 0.9938 - val_loss: 0.0760 - val_acc: 0.9836\n",
      "Epoch 39/40\n",
      "110288/110288 [==============================] - 65s 594us/step - loss: 0.0131 - acc: 0.9965 - val_loss: 0.0809 - val_acc: 0.9829\n",
      "Epoch 40/40\n",
      "110288/110288 [==============================] - 66s 595us/step - loss: 0.0143 - acc: 0.9962 - val_loss: 0.0829 - val_acc: 0.9824\n",
      "Sample 1:\n",
      "il a vu un vieux camion jaune <PAD> <PAD> <PAD> <PAD> <PAD> <PAD> <PAD> <PAD> <PAD> <PAD> <PAD> <PAD> <PAD> <PAD>\n",
      "Il a vu un vieux camion jaune\n",
      "Sample 2:\n",
      "new jersey est parfois calme pendant l' automne et il est neigeux en avril <PAD> <PAD> <PAD> <PAD> <PAD> <PAD> <PAD>\n",
      "new jersey est parfois calme pendant l' automne et il est neigeux en avril <PAD> <PAD> <PAD> <PAD> <PAD> <PAD> <PAD>\n"
     ]
    }
   ],
   "source": [
    "def final_predictions(x, y, x_tk, y_tk):\n",
    "    \"\"\"\n",
    "    Gets predictions using the final model\n",
    "    :param x: Preprocessed English data\n",
    "    :param y: Preprocessed French data\n",
    "    :param x_tk: English tokenizer\n",
    "    :param y_tk: French tokenizer\n",
    "    \"\"\"\n",
    "    # TODO: Train neural network using model_final\n",
    "    model = final_rnn_model\n",
    "    x = pad(x, y.shape[1])\n",
    "\n",
    "    history=final_rnn_model.fit(x, y, batch_size=256, epochs=40, validation_split=0.2) # optional, since it was already trained\n",
    "    \n",
    "    ## DON'T EDIT ANYTHING BELOW THIS LINE\n",
    "    y_id_to_word = {value: key for key, value in y_tk.word_index.items()}\n",
    "    y_id_to_word[0] = '<PAD>'\n",
    "\n",
    "    sentence = 'he saw a old yellow truck'\n",
    "    sentence = [x_tk.word_index[word] for word in sentence.split()]\n",
    "    sentence = pad_sequences([sentence], maxlen=x.shape[-1], padding='post')\n",
    "    sentences = np.array([sentence[0], x[0]])\n",
    "    predictions = model.predict(sentences, len(sentences))\n",
    "\n",
    "    print('Sample 1:')\n",
    "    print(' '.join([y_id_to_word[np.argmax(x)] for x in predictions[0]]))\n",
    "    print('Il a vu un vieux camion jaune')\n",
    "    print('Sample 2:')\n",
    "    print(' '.join([y_id_to_word[np.argmax(x)] for x in predictions[1]]))\n",
    "    print(' '.join([y_id_to_word[np.max(x)] for x in y[0]]))\n",
    "\n",
    "\n",
    "final_predictions(preproc_english_sentences, preproc_french_sentences, english_tokenizer, french_tokenizer)"
   ]
  },
  {
   "cell_type": "markdown",
   "metadata": {},
   "source": [
    "## Submission\n",
    "When you're ready to submit, complete the following steps:\n",
    "1. Review the [rubric](https://review.udacity.com/#!/rubrics/1004/view) to ensure your submission meets all requirements to pass\n",
    "2. Generate an HTML version of this notebook\n",
    "\n",
    "  - Run the next cell to attempt automatic generation (this is the recommended method in Workspaces)\n",
    "  - Navigate to **FILE -> Download as -> HTML (.html)**\n",
    "  - Manually generate a copy using `nbconvert` from your shell terminal\n",
    "```\n",
    "$ pip install nbconvert\n",
    "$ python -m nbconvert machine_translation.ipynb\n",
    "```\n",
    "  \n",
    "3. Submit the project\n",
    "\n",
    "  - If you are in a Workspace, simply click the \"Submit Project\" button (bottom towards the right)\n",
    "  \n",
    "  - Otherwise, add the following files into a zip archive and submit them \n",
    "  - `helper.py`\n",
    "  - `machine_translation.ipynb`\n",
    "  - `machine_translation.html`\n",
    "    - You can export the notebook by navigating to **File -> Download as -> HTML (.html)**."
   ]
  },
  {
   "cell_type": "markdown",
   "metadata": {},
   "source": [
    "### Generate the html\n",
    "\n",
    "**Save your notebook before running the next cell to generate the HTML output.** Then submit your project."
   ]
  },
  {
   "cell_type": "code",
   "execution_count": null,
   "metadata": {},
   "outputs": [],
   "source": [
    "# Save before you run this cell!\n",
    "!!jupyter nbconvert *.ipynb"
   ]
  },
  {
   "cell_type": "markdown",
   "metadata": {},
   "source": [
    "## Optional Enhancements\n",
    "\n",
    "This project focuses on learning various network architectures for machine translation, but we don't evaluate the models according to best practices by splitting the data into separate test & training sets -- so the model accuracy is overstated. Use the [`sklearn.model_selection.train_test_split()`](http://scikit-learn.org/stable/modules/generated/sklearn.model_selection.train_test_split.html) function to create separate training & test datasets, then retrain each of the models using only the training set and evaluate the prediction accuracy using the hold out test set. Does the \"best\" model change?"
   ]
  }
 ],
 "metadata": {
  "kernelspec": {
   "display_name": "Python 3",
   "language": "python",
   "name": "python3"
  },
  "language_info": {
   "codemirror_mode": {
    "name": "ipython",
    "version": 3
   },
   "file_extension": ".py",
   "mimetype": "text/x-python",
   "name": "python",
   "nbconvert_exporter": "python",
   "pygments_lexer": "ipython3",
   "version": "3.6.3"
  }
 },
 "nbformat": 4,
 "nbformat_minor": 1
}
